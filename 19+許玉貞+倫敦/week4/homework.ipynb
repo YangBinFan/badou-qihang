{
 "cells": [
  {
   "cell_type": "code",
   "execution_count": 1,
   "metadata": {
    "ExecuteTime": {
     "end_time": "2021-05-12T23:55:32.742025Z",
     "start_time": "2021-05-12T23:55:32.076796Z"
    }
   },
   "outputs": [],
   "source": [
    "import random\n",
    "import numpy as np\n",
    "import string\n",
    "from zhon.hanzi import punctuation\n",
    "import jieba\n",
    "import textdistance\n",
    "import sys"
   ]
  },
  {
   "cell_type": "code",
   "execution_count": 2,
   "metadata": {
    "ExecuteTime": {
     "end_time": "2021-05-12T23:55:32.756985Z",
     "start_time": "2021-05-12T23:55:32.743022Z"
    }
   },
   "outputs": [],
   "source": [
    "def load_sentence(path, encoding='utf-8'):\n",
    "    \n",
    "    transtable = str.maketrans('', '', string.punctuation + punctuation + ' ')\n",
    "    \n",
    "    sentences = []\n",
    "    with open(path, encoding=encoding) as f:\n",
    "        for line in f:\n",
    "            line = json.loads(line)\n",
    "            text = line[\"title\"] + line['content']\n",
    "            text = text.translate(transtable)\n",
    "            text = jieba.lcut(text)\n",
    "            sentences.append(text)\n",
    "    return sentences"
   ]
  },
  {
   "cell_type": "code",
   "execution_count": 3,
   "metadata": {
    "ExecuteTime": {
     "end_time": "2021-05-12T23:55:38.805976Z",
     "start_time": "2021-05-12T23:55:32.757983Z"
    }
   },
   "outputs": [
    {
     "name": "stderr",
     "output_type": "stream",
     "text": [
      "Building prefix dict from the default dictionary ...\n",
      "Loading model from cache C:\\Users\\rovenr12\\AppData\\Local\\Temp\\jieba.cache\n",
      "Loading model cost 0.447 seconds.\n",
      "Prefix dict has been built successfully.\n"
     ]
    }
   ],
   "source": [
    "sentences = load_sentence(\"tag_news.json\")"
   ]
  },
  {
   "cell_type": "code",
   "execution_count": 4,
   "metadata": {
    "ExecuteTime": {
     "end_time": "2021-05-12T23:55:38.821934Z",
     "start_time": "2021-05-12T23:55:38.806974Z"
    }
   },
   "outputs": [],
   "source": [
    "class StringKmeans:\n",
    "    def __init__(self, data, cluster_mean_len, cluster_num = 20):\n",
    "        self.data = data\n",
    "        self.cluster_num = cluster_num\n",
    "        self.cluster_mean_len = cluster_mean_len\n",
    "        self.centers = np.random.choice(data, cluster_num, replace=False)\n",
    "        self.centers = [self.center([center]) for center in self.centers]\n",
    "        \n",
    "    def distance(self, word1, word2):\n",
    "        return textdistance.sorensen(word1, word2)\n",
    "    \n",
    "    def center(self, words):\n",
    "        word_dict = {}\n",
    "        for word_list in words:\n",
    "            for word in word_list:\n",
    "                word_dict[word] = word_dict.get(word, 0) + 1\n",
    "\n",
    "        word_list = sorted(word_dict.items(), key=lambda x:x[1], reverse=True)\n",
    "        center_len = int(min(self.cluster_mean_len, len(word_list)))\n",
    "        \n",
    "        # 取中間的詞 (避免取很常見的字)\n",
    "        if center_len > len(word_list) * 0.8:\n",
    "            start_idx = int(len(word_list) * 0.8) - 1\n",
    "            word_list = [word[0] for word in word_list[start_idx:center_len + start_idx]]\n",
    "        else:\n",
    "            word_list = [word[0] for word in word_list[:center_len]]\n",
    "            \n",
    "        return word_list\n",
    "    \n",
    "    def cluster(self):\n",
    "        result = []\n",
    "        for i in range(self.cluster_num):\n",
    "            result.append([])\n",
    "        for item in self.data:\n",
    "            distance_min = sys.maxsize\n",
    "            index = -1\n",
    "            for i in range(len(self.centers)):\n",
    "                distance = self.distance(item, self.centers[i])\n",
    "                if distance < distance_min:\n",
    "                    distance_min = distance\n",
    "                    index = i\n",
    "            result[index].append(item)\n",
    "            \n",
    "        new_center = [self.center(words) for words in result]\n",
    "        \n",
    "        has_no_changed = True\n",
    "        for old_center, new_center in zip(self.centers, new_center):\n",
    "            if self.distance(old_center, new_center) < 0.8:\n",
    "                has_no_changed = False\n",
    "                break\n",
    "\n",
    "        if not has_no_changed and len(new_center) == self.cluster_num:\n",
    "            self.centers = new_center\n",
    "            return self.cluster()\n",
    "    "
   ]
  },
  {
   "cell_type": "code",
   "execution_count": 5,
   "metadata": {
    "ExecuteTime": {
     "end_time": "2021-05-12T23:55:38.867811Z",
     "start_time": "2021-05-12T23:55:38.822931Z"
    }
   },
   "outputs": [],
   "source": [
    "sk = StringKmeans(sentences, 20, 10)"
   ]
  },
  {
   "cell_type": "code",
   "execution_count": 6,
   "metadata": {
    "ExecuteTime": {
     "end_time": "2021-05-12T23:55:42.355211Z",
     "start_time": "2021-05-12T23:55:38.868808Z"
    }
   },
   "outputs": [],
   "source": [
    "sk.cluster()"
   ]
  },
  {
   "cell_type": "code",
   "execution_count": 7,
   "metadata": {
    "ExecuteTime": {
     "end_time": "2021-05-12T23:55:42.370675Z",
     "start_time": "2021-05-12T23:55:42.356209Z"
    }
   },
   "outputs": [],
   "source": [
    "center_word = [\"/\".join(center) for center in sk.centers]"
   ]
  },
  {
   "cell_type": "code",
   "execution_count": 8,
   "metadata": {
    "ExecuteTime": {
     "end_time": "2021-05-12T23:55:42.385635Z",
     "start_time": "2021-05-12T23:55:42.371672Z"
    }
   },
   "outputs": [
    {
     "data": {
      "text/plain": [
       "['的/创意/中国/设计师/时尚/在/2010/作品/国际/奖/当代/设计/艺术/将/邀请赛/北京/和/使/与/创意设计',\n",
       " '的/刘翔/调查/退赛/影响/在/奥运会/110/米栏/比赛/中国/观众/奥运/对/你/有何/8/月/18/日',\n",
       " '的/是/最佳/电视剧/百强/华鼎奖/榜/中国/提名/男女/黄/渤/在/题材/黄渤/回应/个/失误/摘得/这',\n",
       " '的/战机/加油/在/试验/F35/进行/与/F35B/首次/空中加油/海军陆战队/美军/联合/成功/软管/将/陆战队/版/报道',\n",
       " '的/了/波什/也/是/热火/在/他/两连败/分/篮板/数据/让/但/比赛/有/个/不错/都/场上',\n",
       " '的/皮草/四十五度/了/广场/是/时尚/上/蓝色/港湾/品牌/给/消费者/和/在/人/将/都/价格/对于',\n",
       " '时间/的/艾弗森/在/推迟/贝西/克/塔斯/球队/他/土耳其/2/天/球迷/要/11/月/日/消息/俱乐部',\n",
       " '的/秋冬/军装/是/搭配/华丽/宫廷/典雅/应用/在/把/俏皮/一个/2010/五类/流行/复古/中裙/率性/风在',\n",
       " '的/赤鹿/在/雄鹿/争夺/鹿角/雌鹿/展开/大战/雄性/开始/是/英国/为/就/公园/野生/一头/14/照片',\n",
       " '的/最/黑暗/料理/你/看上去/奇葩/吃/是/就/鲱鱼/我们/这个/还/不错/12/个/世界各地/各国/特色']"
      ]
     },
     "execution_count": 8,
     "metadata": {},
     "output_type": "execute_result"
    }
   ],
   "source": [
    "center_word"
   ]
  },
  {
   "cell_type": "code",
   "execution_count": null,
   "metadata": {},
   "outputs": [],
   "source": []
  }
 ],
 "metadata": {
  "kernelspec": {
   "display_name": "Python 3",
   "language": "python",
   "name": "python3"
  },
  "language_info": {
   "codemirror_mode": {
    "name": "ipython",
    "version": 3
   },
   "file_extension": ".py",
   "mimetype": "text/x-python",
   "name": "python",
   "nbconvert_exporter": "python",
   "pygments_lexer": "ipython3",
   "version": "3.8.5"
  },
  "toc": {
   "base_numbering": 1,
   "nav_menu": {},
   "number_sections": true,
   "sideBar": true,
   "skip_h1_title": false,
   "title_cell": "Table of Contents",
   "title_sidebar": "Contents",
   "toc_cell": false,
   "toc_position": {},
   "toc_section_display": true,
   "toc_window_display": false
  },
  "varInspector": {
   "cols": {
    "lenName": 16,
    "lenType": 16,
    "lenVar": 40
   },
   "kernels_config": {
    "python": {
     "delete_cmd_postfix": "",
     "delete_cmd_prefix": "del ",
     "library": "var_list.py",
     "varRefreshCmd": "print(var_dic_list())"
    },
    "r": {
     "delete_cmd_postfix": ") ",
     "delete_cmd_prefix": "rm(",
     "library": "var_list.r",
     "varRefreshCmd": "cat(var_dic_list()) "
    }
   },
   "types_to_exclude": [
    "module",
    "function",
    "builtin_function_or_method",
    "instance",
    "_Feature"
   ],
   "window_display": false
  }
 },
 "nbformat": 4,
 "nbformat_minor": 4
}
